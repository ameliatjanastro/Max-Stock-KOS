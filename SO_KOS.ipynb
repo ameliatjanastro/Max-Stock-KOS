{
 "cells": [
  {
   "cell_type": "code",
   "execution_count": null,
   "id": "d8ec6495",
   "metadata": {},
   "outputs": [],
   "source": [
    "import pandas as pd\n",
    "import numpy as np\n",
    "pd.options.mode.chained_assignment = None \n",
    "data = pd.read_excel('stock kos.xlsx')\n",
    "stock = data[['Date','Product ID','Product Name','Start Available Stock','Inbound from PO','Inbound from SO Act Qty']]\n",
    "stock['Total Qty Day'] = stock['Inbound from PO']+stock['Start Available Stock']"
   ]
  },
  {
   "cell_type": "code",
   "execution_count": null,
   "id": "12a7af53",
   "metadata": {},
   "outputs": [],
   "source": [
    "import plotly.express as px\n",
    "from ipywidgets import interact\n",
    "\n",
    "\n",
    "# Ensure date column is in datetime format\n",
    "stock['Date'] = pd.to_datetime(stock['Date'])\n",
    "\n",
    "# Get the start of the week (Monday)\n",
    "stock['Week Start'] = stock['Date'] - pd.to_timedelta(stock['Date'].dt.weekday, unit='D')\n",
    "\n",
    "# Extract month in YYYY-MM format\n",
    "stock['Month'] = stock['Date'].dt.strftime('%Y-%m')\n",
    "\n",
    "# Aggregate max total stock per week and per month\n",
    "weekly_max = stock.groupby(['Product ID', 'Week Start'])['Total Qty Day'].max().reset_index()\n",
    "monthly_max = stock.groupby(['Product ID', 'Month'])['Total Qty Day'].max().reset_index()\n",
    "\n",
    "# Create a dictionary mapping Product ID to Product Name\n",
    "product_mapping = stock[['Product ID', 'Product Name']].drop_duplicates().set_index('Product ID')['Product Name'].to_dict()\n",
    "\n",
    "# Interactive plot function\n",
    "def plot_stock(product_id, timeframe):\n",
    "    product_name = product_mapping.get(product_id, \"Unknown Product\")  # Get product name\n",
    "    \n",
    "    if timeframe == 'Weekly':\n",
    "        data = weekly_max[weekly_max['Product ID'] == product_id]\n",
    "        x_col = 'Week Start'\n",
    "    else:\n",
    "        data = monthly_max[monthly_max['Product ID'] == product_id]\n",
    "        x_col = 'Month'\n",
    "    \n",
    "    # Display product name\n",
    "    print(f\"Selected Product: {product_name} (ID: {product_id})\")\n",
    "    \n",
    "    # Plot the graph\n",
    "    fig = px.line(data, x=x_col, y='Total Qty Day', \n",
    "                  title=f'Max Total Qty for {product_name} ({product_id})', markers=True)\n",
    "    fig.show()\n",
    "\n",
    "# Dropdown filter using interact\n",
    "interact(plot_stock, product_id=stock['Product ID'].unique(), timeframe=['Weekly', 'Monthly'])"
   ]
  },
  {
   "cell_type": "code",
   "execution_count": 9,
   "id": "8945159d",
   "metadata": {},
   "outputs": [],
   "source": []
  },
  {
   "cell_type": "code",
   "execution_count": null,
   "id": "3d963639",
   "metadata": {},
   "outputs": [],
   "source": []
  }
 ],
 "metadata": {
  "kernelspec": {
   "display_name": "Python 3 (ipykernel)",
   "language": "python",
   "name": "python3"
  },
  "language_info": {
   "codemirror_mode": {
    "name": "ipython",
    "version": 3
   },
   "file_extension": ".py",
   "mimetype": "text/x-python",
   "name": "python",
   "nbconvert_exporter": "python",
   "pygments_lexer": "ipython3",
   "version": "3.12.3"
  }
 },
 "nbformat": 4,
 "nbformat_minor": 5
}
